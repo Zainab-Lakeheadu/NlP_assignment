{
  "nbformat": 4,
  "nbformat_minor": 0,
  "metadata": {
    "colab": {
      "name": "nlp_Assignemnt_1.ipynb",
      "provenance": [],
      "toc_visible": true
    },
    "kernelspec": {
      "name": "python3",
      "display_name": "Python 3"
    },
    "accelerator": "GPU"
  },
  "cells": [
    {
      "cell_type": "code",
      "metadata": {
        "id": "9yqOo34opZqi",
        "colab_type": "code",
        "colab": {}
      },
      "source": [
        "\n",
        "from sklearn.model_selection import train_test_split\n",
        "from sklearn.metrics import mean_absolute_error, r2_score\n",
        "import pandas as pd\n",
        "import numpy as np\n",
        "import matplotlib.pyplot as plt\n",
        "from sklearn import preprocessing"
      ],
      "execution_count": 0,
      "outputs": []
    },
    {
      "cell_type": "code",
      "metadata": {
        "id": "u8AYcBtqcjDj",
        "colab_type": "code",
        "outputId": "07ebaf65-9395-4c9a-838a-1cb04af84ef0",
        "colab": {
          "resources": {
            "http://localhost:8080/nbextensions/google.colab/files.js": {
              "data": "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",
              "ok": true,
              "headers": [
                [
                  "content-type",
                  "application/javascript"
                ]
              ],
              "status": 200,
              "status_text": ""
            }
          },
          "base_uri": "https://localhost:8080/",
          "height": 75
        }
      },
      "source": [
        "from google.colab import files\n",
        "uploaded = files.upload()"
      ],
      "execution_count": 2,
      "outputs": [
        {
          "output_type": "display_data",
          "data": {
            "text/html": [
              "\n",
              "     <input type=\"file\" id=\"files-4fd400c7-dacf-4d2f-a6a4-d8fc4530f642\" name=\"files[]\" multiple disabled />\n",
              "     <output id=\"result-4fd400c7-dacf-4d2f-a6a4-d8fc4530f642\">\n",
              "      Upload widget is only available when the cell has been executed in the\n",
              "      current browser session. Please rerun this cell to enable.\n",
              "      </output>\n",
              "      <script src=\"/nbextensions/google.colab/files.js\"></script> "
            ],
            "text/plain": [
              "<IPython.core.display.HTML object>"
            ]
          },
          "metadata": {
            "tags": []
          }
        },
        {
          "output_type": "stream",
          "text": [
            "Saving housing.csv to housing.csv\n"
          ],
          "name": "stdout"
        }
      ]
    },
    {
      "cell_type": "markdown",
      "metadata": {
        "id": "nyHOkTwjKhPg",
        "colab_type": "text"
      },
      "source": [
        "# New Section"
      ]
    },
    {
      "cell_type": "code",
      "metadata": {
        "id": "v_xRTic3r78Z",
        "colab_type": "code",
        "colab": {}
      },
      "source": [
        "dataset = pd.read_csv('/content/housing.csv')"
      ],
      "execution_count": 0,
      "outputs": []
    },
    {
      "cell_type": "code",
      "metadata": {
        "id": "uWQ64Z2PsJi8",
        "colab_type": "code",
        "outputId": "200b0889-b186-47d9-dda8-c4a9b4323717",
        "colab": {
          "base_uri": "https://localhost:8080/",
          "height": 348
        }
      },
      "source": [
        "dataset.head(10)"
      ],
      "execution_count": 136,
      "outputs": [
        {
          "output_type": "execute_result",
          "data": {
            "text/html": [
              "<div>\n",
              "<style scoped>\n",
              "    .dataframe tbody tr th:only-of-type {\n",
              "        vertical-align: middle;\n",
              "    }\n",
              "\n",
              "    .dataframe tbody tr th {\n",
              "        vertical-align: top;\n",
              "    }\n",
              "\n",
              "    .dataframe thead th {\n",
              "        text-align: right;\n",
              "    }\n",
              "</style>\n",
              "<table border=\"1\" class=\"dataframe\">\n",
              "  <thead>\n",
              "    <tr style=\"text-align: right;\">\n",
              "      <th></th>\n",
              "      <th>longitude</th>\n",
              "      <th>latitude</th>\n",
              "      <th>housing_median_age</th>\n",
              "      <th>total_rooms</th>\n",
              "      <th>total_bedrooms</th>\n",
              "      <th>population</th>\n",
              "      <th>households</th>\n",
              "      <th>median_income</th>\n",
              "      <th>median_house_value</th>\n",
              "      <th>ocean_proximity</th>\n",
              "    </tr>\n",
              "  </thead>\n",
              "  <tbody>\n",
              "    <tr>\n",
              "      <th>0</th>\n",
              "      <td>-122.23</td>\n",
              "      <td>37.88</td>\n",
              "      <td>41.0</td>\n",
              "      <td>880.0</td>\n",
              "      <td>129.0</td>\n",
              "      <td>322.0</td>\n",
              "      <td>126.0</td>\n",
              "      <td>8.3252</td>\n",
              "      <td>452600.0</td>\n",
              "      <td>NEAR BAY</td>\n",
              "    </tr>\n",
              "    <tr>\n",
              "      <th>1</th>\n",
              "      <td>-122.22</td>\n",
              "      <td>37.86</td>\n",
              "      <td>21.0</td>\n",
              "      <td>7099.0</td>\n",
              "      <td>1106.0</td>\n",
              "      <td>2401.0</td>\n",
              "      <td>1138.0</td>\n",
              "      <td>8.3014</td>\n",
              "      <td>358500.0</td>\n",
              "      <td>NEAR BAY</td>\n",
              "    </tr>\n",
              "    <tr>\n",
              "      <th>2</th>\n",
              "      <td>-122.24</td>\n",
              "      <td>37.85</td>\n",
              "      <td>52.0</td>\n",
              "      <td>1467.0</td>\n",
              "      <td>190.0</td>\n",
              "      <td>496.0</td>\n",
              "      <td>177.0</td>\n",
              "      <td>7.2574</td>\n",
              "      <td>352100.0</td>\n",
              "      <td>NEAR BAY</td>\n",
              "    </tr>\n",
              "    <tr>\n",
              "      <th>3</th>\n",
              "      <td>-122.25</td>\n",
              "      <td>37.85</td>\n",
              "      <td>52.0</td>\n",
              "      <td>1274.0</td>\n",
              "      <td>235.0</td>\n",
              "      <td>558.0</td>\n",
              "      <td>219.0</td>\n",
              "      <td>5.6431</td>\n",
              "      <td>341300.0</td>\n",
              "      <td>NEAR BAY</td>\n",
              "    </tr>\n",
              "    <tr>\n",
              "      <th>4</th>\n",
              "      <td>-122.25</td>\n",
              "      <td>37.85</td>\n",
              "      <td>52.0</td>\n",
              "      <td>1627.0</td>\n",
              "      <td>280.0</td>\n",
              "      <td>565.0</td>\n",
              "      <td>259.0</td>\n",
              "      <td>3.8462</td>\n",
              "      <td>342200.0</td>\n",
              "      <td>NEAR BAY</td>\n",
              "    </tr>\n",
              "    <tr>\n",
              "      <th>5</th>\n",
              "      <td>-122.25</td>\n",
              "      <td>37.85</td>\n",
              "      <td>52.0</td>\n",
              "      <td>919.0</td>\n",
              "      <td>213.0</td>\n",
              "      <td>413.0</td>\n",
              "      <td>193.0</td>\n",
              "      <td>4.0368</td>\n",
              "      <td>269700.0</td>\n",
              "      <td>NEAR BAY</td>\n",
              "    </tr>\n",
              "    <tr>\n",
              "      <th>6</th>\n",
              "      <td>-122.25</td>\n",
              "      <td>37.84</td>\n",
              "      <td>52.0</td>\n",
              "      <td>2535.0</td>\n",
              "      <td>489.0</td>\n",
              "      <td>1094.0</td>\n",
              "      <td>514.0</td>\n",
              "      <td>3.6591</td>\n",
              "      <td>299200.0</td>\n",
              "      <td>NEAR BAY</td>\n",
              "    </tr>\n",
              "    <tr>\n",
              "      <th>7</th>\n",
              "      <td>-122.25</td>\n",
              "      <td>37.84</td>\n",
              "      <td>52.0</td>\n",
              "      <td>3104.0</td>\n",
              "      <td>687.0</td>\n",
              "      <td>1157.0</td>\n",
              "      <td>647.0</td>\n",
              "      <td>3.1200</td>\n",
              "      <td>241400.0</td>\n",
              "      <td>NEAR BAY</td>\n",
              "    </tr>\n",
              "    <tr>\n",
              "      <th>8</th>\n",
              "      <td>-122.26</td>\n",
              "      <td>37.84</td>\n",
              "      <td>42.0</td>\n",
              "      <td>2555.0</td>\n",
              "      <td>665.0</td>\n",
              "      <td>1206.0</td>\n",
              "      <td>595.0</td>\n",
              "      <td>2.0804</td>\n",
              "      <td>226700.0</td>\n",
              "      <td>NEAR BAY</td>\n",
              "    </tr>\n",
              "    <tr>\n",
              "      <th>9</th>\n",
              "      <td>-122.25</td>\n",
              "      <td>37.84</td>\n",
              "      <td>52.0</td>\n",
              "      <td>3549.0</td>\n",
              "      <td>707.0</td>\n",
              "      <td>1551.0</td>\n",
              "      <td>714.0</td>\n",
              "      <td>3.6912</td>\n",
              "      <td>261100.0</td>\n",
              "      <td>NEAR BAY</td>\n",
              "    </tr>\n",
              "  </tbody>\n",
              "</table>\n",
              "</div>"
            ],
            "text/plain": [
              "   longitude  latitude  ...  median_house_value  ocean_proximity\n",
              "0    -122.23     37.88  ...            452600.0         NEAR BAY\n",
              "1    -122.22     37.86  ...            358500.0         NEAR BAY\n",
              "2    -122.24     37.85  ...            352100.0         NEAR BAY\n",
              "3    -122.25     37.85  ...            341300.0         NEAR BAY\n",
              "4    -122.25     37.85  ...            342200.0         NEAR BAY\n",
              "5    -122.25     37.85  ...            269700.0         NEAR BAY\n",
              "6    -122.25     37.84  ...            299200.0         NEAR BAY\n",
              "7    -122.25     37.84  ...            241400.0         NEAR BAY\n",
              "8    -122.26     37.84  ...            226700.0         NEAR BAY\n",
              "9    -122.25     37.84  ...            261100.0         NEAR BAY\n",
              "\n",
              "[10 rows x 10 columns]"
            ]
          },
          "metadata": {
            "tags": []
          },
          "execution_count": 136
        }
      ]
    },
    {
      "cell_type": "code",
      "metadata": {
        "id": "YnBJ4TIhja4b",
        "colab_type": "code",
        "colab": {}
      },
      "source": [
        "del dataset['ocean_proximity']\n"
      ],
      "execution_count": 0,
      "outputs": []
    },
    {
      "cell_type": "code",
      "metadata": {
        "id": "BnFDaaaRh81B",
        "colab_type": "code",
        "colab": {}
      },
      "source": [
        "dataset = dataset.dropna()"
      ],
      "execution_count": 0,
      "outputs": []
    },
    {
      "cell_type": "code",
      "metadata": {
        "id": "Gd1A8fr-iTeC",
        "colab_type": "code",
        "outputId": "72ea371d-8c26-48b5-8e05-b182c8107e4d",
        "colab": {
          "base_uri": "https://localhost:8080/",
          "height": 561
        }
      },
      "source": [
        "dataset.plot(subplots=True, figsize=(10, 10)); plt.legend(loc='best'); plt.xlim(0, 18)"
      ],
      "execution_count": 139,
      "outputs": [
        {
          "output_type": "execute_result",
          "data": {
            "text/plain": [
              "(0, 18)"
            ]
          },
          "metadata": {
            "tags": []
          },
          "execution_count": 139
        },
        {
          "output_type": "display_data",
          "data": {
            "image/png": "[encoded data removed]",
            "text/plain": [
              "<Figure size 720x720 with 9 Axes>"
            ]
          },
          "metadata": {
            "tags": []
          }
        }
      ]
    },
    {
      "cell_type": "code",
      "metadata": {
        "id": "kOsoO0e5gOGS",
        "colab_type": "code",
        "colab": {}
      },
      "source": [
        "#for avoiding any anomalous value I am normalizing the dataset \n",
        "x = dataset.values #returns a numpy array\n",
        "min_max_scaler = preprocessing.MinMaxScaler()#initializing the MinMax Scaler\n",
        "x_scaled = min_max_scaler.fit_transform(x)#Normalizing the dataset \n",
        "dataset = pd.DataFrame(x_scaled)#converting the datset back to a dataframe\n"
      ],
      "execution_count": 0,
      "outputs": []
    },
    {
      "cell_type": "code",
      "metadata": {
        "id": "FM3FqA_5rv1j",
        "colab_type": "code",
        "outputId": "cac92996-696a-4158-d278-034e1acf53a2",
        "colab": {
          "base_uri": "https://localhost:8080/",
          "height": 198
        }
      },
      "source": [
        "dataset.head()"
      ],
      "execution_count": 141,
      "outputs": [
        {
          "output_type": "execute_result",
          "data": {
            "text/html": [
              "<div>\n",
              "<style scoped>\n",
              "    .dataframe tbody tr th:only-of-type {\n",
              "        vertical-align: middle;\n",
              "    }\n",
              "\n",
              "    .dataframe tbody tr th {\n",
              "        vertical-align: top;\n",
              "    }\n",
              "\n",
              "    .dataframe thead th {\n",
              "        text-align: right;\n",
              "    }\n",
              "</style>\n",
              "<table border=\"1\" class=\"dataframe\">\n",
              "  <thead>\n",
              "    <tr style=\"text-align: right;\">\n",
              "      <th></th>\n",
              "      <th>0</th>\n",
              "      <th>1</th>\n",
              "      <th>2</th>\n",
              "      <th>3</th>\n",
              "      <th>4</th>\n",
              "      <th>5</th>\n",
              "      <th>6</th>\n",
              "      <th>7</th>\n",
              "      <th>8</th>\n",
              "    </tr>\n",
              "  </thead>\n",
              "  <tbody>\n",
              "    <tr>\n",
              "      <th>0</th>\n",
              "      <td>0.211155</td>\n",
              "      <td>0.567481</td>\n",
              "      <td>0.784314</td>\n",
              "      <td>0.022331</td>\n",
              "      <td>0.019863</td>\n",
              "      <td>0.008941</td>\n",
              "      <td>0.020556</td>\n",
              "      <td>0.539668</td>\n",
              "      <td>0.902266</td>\n",
              "    </tr>\n",
              "    <tr>\n",
              "      <th>1</th>\n",
              "      <td>0.212151</td>\n",
              "      <td>0.565356</td>\n",
              "      <td>0.392157</td>\n",
              "      <td>0.180503</td>\n",
              "      <td>0.171477</td>\n",
              "      <td>0.067210</td>\n",
              "      <td>0.186976</td>\n",
              "      <td>0.538027</td>\n",
              "      <td>0.708247</td>\n",
              "    </tr>\n",
              "    <tr>\n",
              "      <th>2</th>\n",
              "      <td>0.210159</td>\n",
              "      <td>0.564293</td>\n",
              "      <td>1.000000</td>\n",
              "      <td>0.037260</td>\n",
              "      <td>0.029330</td>\n",
              "      <td>0.013818</td>\n",
              "      <td>0.028943</td>\n",
              "      <td>0.466028</td>\n",
              "      <td>0.695051</td>\n",
              "    </tr>\n",
              "    <tr>\n",
              "      <th>3</th>\n",
              "      <td>0.209163</td>\n",
              "      <td>0.564293</td>\n",
              "      <td>1.000000</td>\n",
              "      <td>0.032352</td>\n",
              "      <td>0.036313</td>\n",
              "      <td>0.015555</td>\n",
              "      <td>0.035849</td>\n",
              "      <td>0.354699</td>\n",
              "      <td>0.672783</td>\n",
              "    </tr>\n",
              "    <tr>\n",
              "      <th>4</th>\n",
              "      <td>0.209163</td>\n",
              "      <td>0.564293</td>\n",
              "      <td>1.000000</td>\n",
              "      <td>0.041330</td>\n",
              "      <td>0.043296</td>\n",
              "      <td>0.015752</td>\n",
              "      <td>0.042427</td>\n",
              "      <td>0.230776</td>\n",
              "      <td>0.674638</td>\n",
              "    </tr>\n",
              "  </tbody>\n",
              "</table>\n",
              "</div>"
            ],
            "text/plain": [
              "          0         1         2  ...         6         7         8\n",
              "0  0.211155  0.567481  0.784314  ...  0.020556  0.539668  0.902266\n",
              "1  0.212151  0.565356  0.392157  ...  0.186976  0.538027  0.708247\n",
              "2  0.210159  0.564293  1.000000  ...  0.028943  0.466028  0.695051\n",
              "3  0.209163  0.564293  1.000000  ...  0.035849  0.354699  0.672783\n",
              "4  0.209163  0.564293  1.000000  ...  0.042427  0.230776  0.674638\n",
              "\n",
              "[5 rows x 9 columns]"
            ]
          },
          "metadata": {
            "tags": []
          },
          "execution_count": 141
        }
      ]
    },
    {
      "cell_type": "code",
      "metadata": {
        "id": "f0IfX1-Prz_r",
        "colab_type": "code",
        "colab": {}
      },
      "source": [
        "#have taken the 9th column as the target variable which the median house value and from first to 8th column I have taken as features\n",
        "X = dataset.loc[:, 0:7]\n",
        "Y = dataset[8]\n"
      ],
      "execution_count": 0,
      "outputs": []
    },
    {
      "cell_type": "code",
      "metadata": {
        "id": "hqBzS--TsGg9",
        "colab_type": "code",
        "colab": {}
      },
      "source": [
        "#Splitted my training and testing dataset\n",
        "x_train, x_test, y_train, y_test = train_test_split(X, Y, test_size = 0.2, random_state=2003, shuffle = True)"
      ],
      "execution_count": 0,
      "outputs": []
    },
    {
      "cell_type": "code",
      "metadata": {
        "id": "r-7xoUngssRk",
        "colab_type": "code",
        "colab": {}
      },
      "source": [
        "#Converted the testing and training datasets to numpy arrays to work with  PyTorch model \n",
        "x_train_np = x_train.to_numpy()\n",
        "y_train_np = y_train.to_numpy()\n",
        "x_test_np = x_test.to_numpy()\n",
        "y_test_np = y_test.to_numpy()"
      ],
      "execution_count": 0,
      "outputs": []
    },
    {
      "cell_type": "code",
      "metadata": {
        "id": "Gz_E5Q-uuiCo",
        "colab_type": "code",
        "colab": {}
      },
      "source": [
        "import torch"
      ],
      "execution_count": 0,
      "outputs": []
    },
    {
      "cell_type": "code",
      "metadata": {
        "id": "ga5trz02uuyr",
        "colab_type": "code",
        "colab": {}
      },
      "source": [
        "#for avoiding the Vanishing/exploding gradient issue.\n",
        "#I am using relu as my activation function\n",
        "from torch.nn import Linear\n",
        "from torch.nn import Flatten\n",
        "from torch.nn.functional import relu\n",
        "from torch.utils.data import DataLoader, TensorDataset\n",
        "from torch.nn import Conv1d\n",
        "from torch.nn import MaxPool1d\n"
      ],
      "execution_count": 0,
      "outputs": []
    },
    {
      "cell_type": "code",
      "metadata": {
        "id": "hPN4qvN9vt_e",
        "colab_type": "code",
        "colab": {}
      },
      "source": [
        "class CnnRegressor(torch.nn.Module):\n",
        "  #defining the method for initialization\n",
        "  def __init__(self, batch_size, inputs, outputs):\n",
        "    super(CnnRegressor, self).__init__()\n",
        "    self.batch_size = batch_size\n",
        "    self.inputs = inputs\n",
        "    self.outputs = outputs\n",
        "    #Defining the input layer\n",
        "    self.input_layer = Conv1d(inputs, batch_size, 1)\n",
        "    #Defining the max pooling layer\n",
        "    self.max_pooling_layer= MaxPool1d(1)\n",
        "    #Adding 2 convolutional layer with 550 as number of hidden neurons\n",
        "    self.conv_layer = Conv1d(batch_size, 550, 1)\n",
        "    self.conv1_layer = Conv1d(550, 550, 1)\n",
        "    #defining the Flatten layer\n",
        "    self.flatten_layer = Flatten()\n",
        "    #defining the linear layer\n",
        "    self.linear_layer = Linear(550,64)\n",
        "    #defining the ouput layer\n",
        "    self.outputs_layer = Linear(64, outputs)\n",
        "  #initializing method to feed the paprameters in to the model\n",
        "  def feed(self, input):\n",
        "    #reshaping the input as it expects a 1D or 2D layer so specifying \n",
        "    #it as 1 and feeding the parameters to the output layer\n",
        "    input = input.reshape((self.batch_size, self.inputs, 1))\n",
        "    output = relu(self.input_layer(input))\n",
        "    output = self.max_pooling_layer(output)\n",
        "    output = relu(self.conv_layer(output))\n",
        "    output = relu(self.conv1_layer(output))\n",
        "    output = self.flatten_layer(output)\n",
        "    output = self.linear_layer(output)\n",
        "    output = self.outputs_layer(output)\n",
        "    return output"
      ],
      "execution_count": 0,
      "outputs": []
    },
    {
      "cell_type": "code",
      "metadata": {
        "id": "XS5ll-W_ySMH",
        "colab_type": "code",
        "outputId": "a2d71abd-db78-45bb-8ede-a51b78532ef7",
        "colab": {
          "base_uri": "https://localhost:8080/",
          "height": 54
        }
      },
      "source": [
        "from torch.optim import Adamax, SGD\n",
        "from torch.nn import L1Loss\n",
        "!pip install pytorch-ignite\n",
        "from ignite.contrib.metrics.regression.r2_score import R2Score"
      ],
      "execution_count": 148,
      "outputs": [
        {
          "output_type": "stream",
          "text": [
            "Requirement already satisfied: pytorch-ignite in /usr/local/lib/python3.6/dist-packages (0.3.0)\n",
            "Requirement already satisfied: torch in /usr/local/lib/python3.6/dist-packages (from pytorch-ignite) (1.4.0)\n"
          ],
          "name": "stdout"
        }
      ]
    },
    {
      "cell_type": "code",
      "metadata": {
        "id": "3iSliTrdy0Qz",
        "colab_type": "code",
        "outputId": "274e73cf-0103-4887-c6ea-5a2aa92d5d4d",
        "colab": {
          "base_uri": "https://localhost:8080/",
          "height": 181
        }
      },
      "source": [
        "#initializing the batch size\n",
        "batch_size = 64\n",
        "model = CnnRegressor(batch_size, X.shape[1],1)\n",
        "#enabling to use the GPU\n",
        "model.cuda()"
      ],
      "execution_count": 149,
      "outputs": [
        {
          "output_type": "execute_result",
          "data": {
            "text/plain": [
              "CnnRegressor(\n",
              "  (input_layer): Conv1d(8, 64, kernel_size=(1,), stride=(1,))\n",
              "  (max_pooling_layer): MaxPool1d(kernel_size=1, stride=1, padding=0, dilation=1, ceil_mode=False)\n",
              "  (conv_layer): Conv1d(64, 550, kernel_size=(1,), stride=(1,))\n",
              "  (conv1_layer): Conv1d(550, 550, kernel_size=(1,), stride=(1,))\n",
              "  (flatten_layer): Flatten()\n",
              "  (linear_layer): Linear(in_features=550, out_features=64, bias=True)\n",
              "  (outputs_layer): Linear(in_features=64, out_features=1, bias=True)\n",
              ")"
            ]
          },
          "metadata": {
            "tags": []
          },
          "execution_count": 149
        }
      ]
    },
    {
      "cell_type": "code",
      "metadata": {
        "id": "jWHiRGL01vZ8",
        "colab_type": "code",
        "colab": {}
      },
      "source": [
        "def model_loss(model,dataset, train = False, optimizer = None):\n",
        "  #Iterates through the batches and fectches the L1 loss \n",
        "  #and R^2 score\n",
        "  performance = L1Loss()\n",
        "  score_metric = R2Score()\n",
        "\n",
        "  avg_loss = 0\n",
        "  avg_score = 0\n",
        "  count = 0\n",
        "  #gets the model prediction for the training dataset \n",
        "  #and gets the model L1 Loss and R^2 score\n",
        "  for input, output in iter(dataset):\n",
        "    predictions = model.feed(input)\n",
        "    loss = performance(predictions, output)\n",
        "    score_metric.update([predictions,output])\n",
        "    score = score_metric.compute()\n",
        "\n",
        "    if(train):\n",
        "      #clears out any errors and calculates the gradient \n",
        "      #and stores the loss before updating the counter\n",
        "      optimizer.zero_grad()\n",
        "      loss.backward()\n",
        "      optimizer.step()\n",
        "    avg_loss += loss.item()\n",
        "    avg_score += score\n",
        "    count += 1 \n",
        "  return avg_loss / count, avg_score / count"
      ],
      "execution_count": 0,
      "outputs": []
    },
    {
      "cell_type": "code",
      "metadata": {
        "id": "8BIA3cbo3g9Q",
        "colab_type": "code",
        "colab": {
          "base_uri": "https://localhost:8080/",
          "height": 1000
        },
        "outputId": "885fffa1-39a5-4a34-f279-46b3edddb7a7"
      },
      "source": [
        "#time library is imported to record the training time\n",
        "import time\n",
        "#initializing the number of epochs\n",
        "epochs = 100\n",
        "#initializing the optimizer and the learning rate\n",
        "optimizer = Adamax(model.parameters(), lr = 0.001)\n",
        "#convert the training datat into torch variables for model using the GPU\n",
        "inputs = torch.from_numpy(x_train_np).cuda().float()\n",
        "outputs = torch.from_numpy(y_train_np.reshape(y_train_np.shape[0],1)).cuda().float()\n",
        "tensor = TensorDataset(inputs, outputs)\n",
        "#Dataloader to process the batches\n",
        "loader = DataLoader(tensor, batch_size, shuffle= True, drop_last=True)\n",
        "#initializing a list to store the score\n",
        "maxR2_score = []\n",
        "#initializing the start time\n",
        "start = time.time()\n",
        "#loop defined for training the data\n",
        "for epoch in range(epochs):\n",
        "  avg_loss, avg_r2_score = model_loss(model, loader, train = True, optimizer=optimizer)\n",
        "  maxR2_score.append(avg_r2_score)\n",
        "  print(\"Epoch\" + str(epoch + 1) + \":\\n\\tLoss\" + str(avg_loss)+ \"\\n\\tR^2 Score =\" + str(avg_r2_score))\n",
        "print( \"value is \" + str(max(maxR2_score)) + \" at epoch \" + str(maxR2_score.index(max(maxR2_score))+1))\n",
        "#initializing the stop time\n",
        "stop = time.time()\n",
        "print(f\"Training time: {stop - start}s\")"
      ],
      "execution_count": 151,
      "outputs": [
        {
          "output_type": "stream",
          "text": [
            "Epoch1:\n",
            "\tLoss0.11713276400285609\n",
            "\tR^2 Score =0.2643481415565431\n",
            "Epoch2:\n",
            "\tLoss0.09678047425022313\n",
            "\tR^2 Score =0.6316555831754193\n",
            "Epoch3:\n",
            "\tLoss0.09253968811210464\n",
            "\tR^2 Score =0.6621724035916879\n",
            "Epoch4:\n",
            "\tLoss0.08908374698138705\n",
            "\tR^2 Score =0.6825735962375692\n",
            "Epoch5:\n",
            "\tLoss0.08643656893103731\n",
            "\tR^2 Score =0.7000589359447051\n",
            "Epoch6:\n",
            "\tLoss0.08572365998053083\n",
            "\tR^2 Score =0.7052761871889263\n",
            "Epoch7:\n",
            "\tLoss0.08486052671191739\n",
            "\tR^2 Score =0.7083847660562673\n",
            "Epoch8:\n",
            "\tLoss0.08361161086781352\n",
            "\tR^2 Score =0.7139377136967481\n",
            "Epoch9:\n",
            "\tLoss0.08309829635362999\n",
            "\tR^2 Score =0.713680200938273\n",
            "Epoch10:\n",
            "\tLoss0.08285321222216475\n",
            "\tR^2 Score =0.723769371705393\n",
            "Epoch11:\n",
            "\tLoss0.08119184423018905\n",
            "\tR^2 Score =0.7286950333595855\n",
            "Epoch12:\n",
            "\tLoss0.0818670016439522\n",
            "\tR^2 Score =0.7224731543739775\n",
            "Epoch13:\n",
            "\tLoss0.08064915460406565\n",
            "\tR^2 Score =0.7318922829553614\n",
            "Epoch14:\n",
            "\tLoss0.0806176121620571\n",
            "\tR^2 Score =0.7395934791787148\n",
            "Epoch15:\n",
            "\tLoss0.08021850962849224\n",
            "\tR^2 Score =0.730405628409881\n",
            "Epoch16:\n",
            "\tLoss0.07945231682821816\n",
            "\tR^2 Score =0.7472371412026528\n",
            "Epoch17:\n",
            "\tLoss0.0801727205368818\n",
            "\tR^2 Score =0.7392995137003507\n",
            "Epoch18:\n",
            "\tLoss0.07814794422364703\n",
            "\tR^2 Score =0.7481157711189085\n",
            "Epoch19:\n",
            "\tLoss0.07827752368415103\n",
            "\tR^2 Score =0.7494992868227689\n",
            "Epoch20:\n",
            "\tLoss0.07839976284725993\n",
            "\tR^2 Score =0.7359948538272223\n",
            "Epoch21:\n",
            "\tLoss0.0773756975344583\n",
            "\tR^2 Score =0.7536328355241246\n",
            "Epoch22:\n",
            "\tLoss0.07651624862177699\n",
            "\tR^2 Score =0.7637856298300593\n",
            "Epoch23:\n",
            "\tLoss0.07617887670502943\n",
            "\tR^2 Score =0.7492817689397461\n",
            "Epoch24:\n",
            "\tLoss0.07708714253762189\n",
            "\tR^2 Score =0.7608037059951436\n",
            "Epoch25:\n",
            "\tLoss0.07585628189000429\n",
            "\tR^2 Score =0.766605696213443\n",
            "Epoch26:\n",
            "\tLoss0.07690407785714841\n",
            "\tR^2 Score =0.7553917734265926\n",
            "Epoch27:\n",
            "\tLoss0.07525858560613558\n",
            "\tR^2 Score =0.7552289379070355\n",
            "Epoch28:\n",
            "\tLoss0.07452491058730612\n",
            "\tR^2 Score =0.7523352814462376\n",
            "Epoch29:\n",
            "\tLoss0.07499243190475538\n",
            "\tR^2 Score =0.7563504467928804\n",
            "Epoch30:\n",
            "\tLoss0.07581564519627422\n",
            "\tR^2 Score =0.7747206054439137\n",
            "Epoch31:\n",
            "\tLoss0.07438894920781547\n",
            "\tR^2 Score =0.7758379844593075\n",
            "Epoch32:\n",
            "\tLoss0.07420024284545113\n",
            "\tR^2 Score =0.7588511036906076\n",
            "Epoch33:\n",
            "\tLoss0.07380891638059242\n",
            "\tR^2 Score =0.7706024248432528\n",
            "Epoch34:\n",
            "\tLoss0.07422814681833866\n",
            "\tR^2 Score =0.7655911333212739\n",
            "Epoch35:\n",
            "\tLoss0.07292278078841229\n",
            "\tR^2 Score =0.7823477921318294\n",
            "Epoch36:\n",
            "\tLoss0.07336220286932646\n",
            "\tR^2 Score =0.7805995354037903\n",
            "Epoch37:\n",
            "\tLoss0.0726564885792779\n",
            "\tR^2 Score =0.7787780110824359\n",
            "Epoch38:\n",
            "\tLoss0.07261493791844331\n",
            "\tR^2 Score =0.7861671214165394\n",
            "Epoch39:\n",
            "\tLoss0.07237260419071889\n",
            "\tR^2 Score =0.7779069882218829\n",
            "Epoch40:\n",
            "\tLoss0.07243239156463567\n",
            "\tR^2 Score =0.7799945758139304\n",
            "Epoch41:\n",
            "\tLoss0.07113256470537653\n",
            "\tR^2 Score =0.7857343176428336\n",
            "Epoch42:\n",
            "\tLoss0.0721693045806651\n",
            "\tR^2 Score =0.7801581563577529\n",
            "Epoch43:\n",
            "\tLoss0.07107033836198788\n",
            "\tR^2 Score =0.785527377167421\n",
            "Epoch44:\n",
            "\tLoss0.07146216188283527\n",
            "\tR^2 Score =0.7907508709977565\n",
            "Epoch45:\n",
            "\tLoss0.07094928467390584\n",
            "\tR^2 Score =0.7868128115296319\n",
            "Epoch46:\n",
            "\tLoss0.07162496042894383\n",
            "\tR^2 Score =0.7788389591862069\n",
            "Epoch47:\n",
            "\tLoss0.07023415235327739\n",
            "\tR^2 Score =0.7852605232970156\n",
            "Epoch48:\n",
            "\tLoss0.0703218110490079\n",
            "\tR^2 Score =0.7821075834925211\n",
            "Epoch49:\n",
            "\tLoss0.07004999841252962\n",
            "\tR^2 Score =0.7855792319544918\n",
            "Epoch50:\n",
            "\tLoss0.07113428464999386\n",
            "\tR^2 Score =0.7875951310910951\n",
            "Epoch51:\n",
            "\tLoss0.06872312293625345\n",
            "\tR^2 Score =0.7914522480522705\n",
            "Epoch52:\n",
            "\tLoss0.06969666967497153\n",
            "\tR^2 Score =0.7937090036303625\n",
            "Epoch53:\n",
            "\tLoss0.06864860515091933\n",
            "\tR^2 Score =0.7941775592187931\n",
            "Epoch54:\n",
            "\tLoss0.06931490892288732\n",
            "\tR^2 Score =0.7999174178403271\n",
            "Epoch55:\n",
            "\tLoss0.06951475645981584\n",
            "\tR^2 Score =0.7975625974362125\n",
            "Epoch56:\n",
            "\tLoss0.06904381588101387\n",
            "\tR^2 Score =0.7827275406609449\n",
            "Epoch57:\n",
            "\tLoss0.06884297538621753\n",
            "\tR^2 Score =0.7938348549400434\n",
            "Epoch58:\n",
            "\tLoss0.06786059309162346\n",
            "\tR^2 Score =0.8085693415235402\n",
            "Epoch59:\n",
            "\tLoss0.06864720521604313\n",
            "\tR^2 Score =0.7927036468889767\n",
            "Epoch60:\n",
            "\tLoss0.0685365133133589\n",
            "\tR^2 Score =0.7913908753180424\n",
            "Epoch61:\n",
            "\tLoss0.06708846007492028\n",
            "\tR^2 Score =0.8033050178265079\n",
            "Epoch62:\n",
            "\tLoss0.06821225845054084\n",
            "\tR^2 Score =0.8004406842945738\n",
            "Epoch63:\n",
            "\tLoss0.06761813114086787\n",
            "\tR^2 Score =0.7993384666641291\n",
            "Epoch64:\n",
            "\tLoss0.06735610999897415\n",
            "\tR^2 Score =0.8003554996987715\n",
            "Epoch65:\n",
            "\tLoss0.06779080731611625\n",
            "\tR^2 Score =0.8015856566864555\n",
            "Epoch66:\n",
            "\tLoss0.06667914963236042\n",
            "\tR^2 Score =0.8082187152897881\n",
            "Epoch67:\n",
            "\tLoss0.06728775767134686\n",
            "\tR^2 Score =0.8063462153671379\n",
            "Epoch68:\n",
            "\tLoss0.06658205638329188\n",
            "\tR^2 Score =0.815086106333422\n",
            "Epoch69:\n",
            "\tLoss0.06663554439357683\n",
            "\tR^2 Score =0.8074881831157575\n",
            "Epoch70:\n",
            "\tLoss0.06609607528822095\n",
            "\tR^2 Score =0.8027178323014416\n",
            "Epoch71:\n",
            "\tLoss0.06598895935743462\n",
            "\tR^2 Score =0.812890058720755\n",
            "Epoch72:\n",
            "\tLoss0.06587416868583829\n",
            "\tR^2 Score =0.8014184746820185\n",
            "Epoch73:\n",
            "\tLoss0.06753010859384256\n",
            "\tR^2 Score =0.8079556793293584\n",
            "Epoch74:\n",
            "\tLoss0.06601891933995134\n",
            "\tR^2 Score =0.8052137906008491\n",
            "Epoch75:\n",
            "\tLoss0.0660144772015366\n",
            "\tR^2 Score =0.80642399620881\n",
            "Epoch76:\n",
            "\tLoss0.06573059019796988\n",
            "\tR^2 Score =0.8186507464101066\n",
            "Epoch77:\n",
            "\tLoss0.06571751860719101\n",
            "\tR^2 Score =0.8092834599352899\n",
            "Epoch78:\n",
            "\tLoss0.06490000457155938\n",
            "\tR^2 Score =0.8181201965670967\n",
            "Epoch79:\n",
            "\tLoss0.06507551263944776\n",
            "\tR^2 Score =0.8164317598380125\n",
            "Epoch80:\n",
            "\tLoss0.06508506273522097\n",
            "\tR^2 Score =0.8175631598317072\n",
            "Epoch81:\n",
            "\tLoss0.06488770467101358\n",
            "\tR^2 Score =0.8168231610262825\n",
            "Epoch82:\n",
            "\tLoss0.06465599699055448\n",
            "\tR^2 Score =0.8141497590838952\n",
            "Epoch83:\n",
            "\tLoss0.06463828519278882\n",
            "\tR^2 Score =0.8169720147273658\n",
            "Epoch84:\n",
            "\tLoss0.0641326745058976\n",
            "\tR^2 Score =0.8205872227604205\n",
            "Epoch85:\n",
            "\tLoss0.06425634990720187\n",
            "\tR^2 Score =0.8165551780951295\n",
            "Epoch86:\n",
            "\tLoss0.06391335272905874\n",
            "\tR^2 Score =0.8168927730712268\n",
            "Epoch87:\n",
            "\tLoss0.06493866418798765\n",
            "\tR^2 Score =0.8228989763372027\n",
            "Epoch88:\n",
            "\tLoss0.06388800879027329\n",
            "\tR^2 Score =0.8225995434504819\n",
            "Epoch89:\n",
            "\tLoss0.06415191571794304\n",
            "\tR^2 Score =0.8182404331963741\n",
            "Epoch90:\n",
            "\tLoss0.06385953148790434\n",
            "\tR^2 Score =0.81639521386258\n",
            "Epoch91:\n",
            "\tLoss0.06369892003781655\n",
            "\tR^2 Score =0.8207528057197992\n",
            "Epoch92:\n",
            "\tLoss0.06357270731937652\n",
            "\tR^2 Score =0.8242030558763798\n",
            "Epoch93:\n",
            "\tLoss0.06365644066941505\n",
            "\tR^2 Score =0.8205088729183478\n",
            "Epoch94:\n",
            "\tLoss0.06301473833474458\n",
            "\tR^2 Score =0.8200189751425048\n",
            "Epoch95:\n",
            "\tLoss0.0643068441865491\n",
            "\tR^2 Score =0.8143295427883579\n",
            "Epoch96:\n",
            "\tLoss0.06377822035083584\n",
            "\tR^2 Score =0.8110807032365465\n",
            "Epoch97:\n",
            "\tLoss0.06328970177793035\n",
            "\tR^2 Score =0.823427561498029\n",
            "Epoch98:\n",
            "\tLoss0.06269297643619424\n",
            "\tR^2 Score =0.8266675293607276\n",
            "Epoch99:\n",
            "\tLoss0.06268738160530726\n",
            "\tR^2 Score =0.825370423751181\n",
            "Epoch100:\n",
            "\tLoss0.06268083977640844\n",
            "\tR^2 Score =0.8287937871798522\n",
            "value is 0.8287937871798522 at epoch 100\n",
            "Training time: 120.6582932472229s\n"
          ],
          "name": "stdout"
        }
      ]
    },
    {
      "cell_type": "code",
      "metadata": {
        "id": "60qYMLkXVWjR",
        "colab_type": "code",
        "colab": {
          "base_uri": "https://localhost:8080/",
          "height": 237
        },
        "outputId": "22806ca4-8273-4052-d0f4-44ddebc1947a"
      },
      "source": [
        "torch.save(model.state_dict, '1110186_1dconv_reg')\n",
        "models = torch.load('1110186_1dconv_reg')\n",
        "model.eval()"
      ],
      "execution_count": 152,
      "outputs": [
        {
          "output_type": "stream",
          "text": [
            "/usr/local/lib/python3.6/dist-packages/torch/serialization.py:360: UserWarning: Couldn't retrieve source code for container of type CnnRegressor. It won't be checked for correctness upon loading.\n",
            "  \"type \" + obj.__name__ + \". It won't be checked \"\n"
          ],
          "name": "stderr"
        },
        {
          "output_type": "execute_result",
          "data": {
            "text/plain": [
              "CnnRegressor(\n",
              "  (input_layer): Conv1d(8, 64, kernel_size=(1,), stride=(1,))\n",
              "  (max_pooling_layer): MaxPool1d(kernel_size=1, stride=1, padding=0, dilation=1, ceil_mode=False)\n",
              "  (conv_layer): Conv1d(64, 550, kernel_size=(1,), stride=(1,))\n",
              "  (conv1_layer): Conv1d(550, 550, kernel_size=(1,), stride=(1,))\n",
              "  (flatten_layer): Flatten()\n",
              "  (linear_layer): Linear(in_features=550, out_features=64, bias=True)\n",
              "  (outputs_layer): Linear(in_features=64, out_features=1, bias=True)\n",
              ")"
            ]
          },
          "metadata": {
            "tags": []
          },
          "execution_count": 152
        }
      ]
    },
    {
      "cell_type": "code",
      "metadata": {
        "id": "gF8sq5HC856U",
        "colab_type": "code",
        "colab": {
          "base_uri": "https://localhost:8080/",
          "height": 72
        },
        "outputId": "6675d61e-d21b-4592-b000-cc7893c057ee"
      },
      "source": [
        "#convert the testing datat into torch variables for model using the GPU\n",
        "inputs = torch.from_numpy(x_test_np).cuda().float()\n",
        "outputs = torch.from_numpy(y_test_np.reshape(y_test_np.shape[0], 1)).cuda().float()\n",
        "\n",
        "tensor = TensorDataset(inputs, outputs)\n",
        "#Dataloader to process the batches\n",
        "loader = DataLoader (tensor, batch_size, shuffle= True, drop_last=True)\n",
        "#initializing the start time\n",
        "start = time.time()\n",
        "#print the average performance\n",
        "avg_loss, avg_r2_score = model_loss(model, loader)\n",
        "#initializing the stop time\n",
        "stop = time.time()\n",
        "print(\"the model's L1 loss is \" + str(avg_loss))  \n",
        "print(\"the R^2 score is \" +  str(avg_r2_score))\n",
        "print(f\"Testing time: {stop - start}s\")"
      ],
      "execution_count": 153,
      "outputs": [
        {
          "output_type": "stream",
          "text": [
            "the model's L1 loss is 0.06832530290361434\n",
            "the R^2 score is 0.8036522527341633\n",
            "Testing time: 0.11425662040710449s\n"
          ],
          "name": "stdout"
        }
      ]
    },
    {
      "cell_type": "code",
      "metadata": {
        "id": "eYHl4GjGtFVY",
        "colab_type": "code",
        "colab": {
          "base_uri": "https://localhost:8080/",
          "height": 35
        },
        "outputId": "1cfb9e33-d620-44c0-989c-b8b156fbe385"
      },
      "source": [
        "def number_of_trainable_parameters(model):\n",
        "  return sum(p.numel() for p in model.parameters() if p.requires_grad)\n",
        "x = number_of_trainable_parameters(model)\n",
        "print(\"number of number_of_trainable_parameters \" + str(x))"
      ],
      "execution_count": 154,
      "outputs": [
        {
          "output_type": "stream",
          "text": [
            "number of number_of_trainable_parameters 374705\n"
          ],
          "name": "stdout"
        }
      ]
    }
  ]
}